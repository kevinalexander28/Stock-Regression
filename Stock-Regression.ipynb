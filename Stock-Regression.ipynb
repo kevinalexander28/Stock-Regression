{
 "cells": [
  {
   "cell_type": "markdown",
   "metadata": {},
   "source": [
    "# Setup Environment"
   ]
  },
  {
   "cell_type": "code",
   "execution_count": 1,
   "metadata": {},
   "outputs": [
    {
     "name": "stdout",
     "output_type": "stream",
     "text": [
      "Requirement already satisfied: numpy in c:\\users\\kevin\\anaconda3\\lib\\site-packages (1.19.2)\n",
      "Requirement already satisfied: pandas in c:\\users\\kevin\\anaconda3\\lib\\site-packages (1.1.3)\n",
      "Requirement already satisfied: matplotlib in c:\\users\\kevin\\anaconda3\\lib\\site-packages (3.3.2)\n",
      "Requirement already satisfied: sklearn in c:\\users\\kevin\\anaconda3\\lib\\site-packages (0.0)\n",
      "Requirement already satisfied: yahoo-finance in c:\\users\\kevin\\anaconda3\\lib\\site-packages (1.4.0)\n",
      "Requirement already satisfied: python-dateutil>=2.7.3 in c:\\users\\kevin\\anaconda3\\lib\\site-packages (from pandas) (2.8.1)\n",
      "Requirement already satisfied: pytz>=2017.2 in c:\\users\\kevin\\anaconda3\\lib\\site-packages (from pandas) (2020.1)\n",
      "Requirement already satisfied: kiwisolver>=1.0.1 in c:\\users\\kevin\\anaconda3\\lib\\site-packages (from matplotlib) (1.3.0)\n",
      "Requirement already satisfied: cycler>=0.10 in c:\\users\\kevin\\anaconda3\\lib\\site-packages (from matplotlib) (0.10.0)\n",
      "Requirement already satisfied: certifi>=2020.06.20 in c:\\users\\kevin\\anaconda3\\lib\\site-packages (from matplotlib) (2020.6.20)\n",
      "Requirement already satisfied: pyparsing!=2.0.4,!=2.1.2,!=2.1.6,>=2.0.3 in c:\\users\\kevin\\anaconda3\\lib\\site-packages (from matplotlib) (2.4.7)\n",
      "Requirement already satisfied: pillow>=6.2.0 in c:\\users\\kevin\\anaconda3\\lib\\site-packages (from matplotlib) (8.0.1)\n",
      "Requirement already satisfied: scikit-learn in c:\\users\\kevin\\anaconda3\\lib\\site-packages (from sklearn) (0.23.2)\n",
      "Requirement already satisfied: simplejson in c:\\users\\kevin\\anaconda3\\lib\\site-packages (from yahoo-finance) (3.17.2)\n",
      "Requirement already satisfied: six>=1.5 in c:\\users\\kevin\\anaconda3\\lib\\site-packages (from python-dateutil>=2.7.3->pandas) (1.15.0)\n",
      "Requirement already satisfied: scipy>=0.19.1 in c:\\users\\kevin\\anaconda3\\lib\\site-packages (from scikit-learn->sklearn) (1.5.2)\n",
      "Requirement already satisfied: joblib>=0.11 in c:\\users\\kevin\\anaconda3\\lib\\site-packages (from scikit-learn->sklearn) (0.17.0)\n",
      "Requirement already satisfied: threadpoolctl>=2.0.0 in c:\\users\\kevin\\anaconda3\\lib\\site-packages (from scikit-learn->sklearn) (2.1.0)\n"
     ]
    }
   ],
   "source": [
    "# install libraries\n",
    "!pip install numpy pandas matplotlib sklearn yahoo-finance"
   ]
  },
  {
   "cell_type": "code",
   "execution_count": 2,
   "metadata": {},
   "outputs": [],
   "source": [
    "# import libraries\n",
    "import numpy as np \n",
    "import pandas as pd\n",
    "import matplotlib.pyplot as plt\n",
    "from pandas.plotting import register_matplotlib_converters\n",
    "from sklearn.metrics import accuracy_score"
   ]
  },
  {
   "cell_type": "code",
   "execution_count": 3,
   "metadata": {},
   "outputs": [],
   "source": [
    "# read data\n",
    "data = pd.read_csv('data/BBRI.JK.csv', index_col='Date', parse_dates=True)"
   ]
  },
  {
   "cell_type": "markdown",
   "metadata": {},
   "source": [
    "# Data Understanding"
   ]
  },
  {
   "cell_type": "code",
   "execution_count": 4,
   "metadata": {},
   "outputs": [
    {
     "data": {
      "text/html": [
       "<div>\n",
       "<style scoped>\n",
       "    .dataframe tbody tr th:only-of-type {\n",
       "        vertical-align: middle;\n",
       "    }\n",
       "\n",
       "    .dataframe tbody tr th {\n",
       "        vertical-align: top;\n",
       "    }\n",
       "\n",
       "    .dataframe thead th {\n",
       "        text-align: right;\n",
       "    }\n",
       "</style>\n",
       "<table border=\"1\" class=\"dataframe\">\n",
       "  <thead>\n",
       "    <tr style=\"text-align: right;\">\n",
       "      <th></th>\n",
       "      <th>Open</th>\n",
       "      <th>High</th>\n",
       "      <th>Low</th>\n",
       "      <th>Close</th>\n",
       "      <th>Adj Close</th>\n",
       "      <th>Volume</th>\n",
       "    </tr>\n",
       "    <tr>\n",
       "      <th>Date</th>\n",
       "      <th></th>\n",
       "      <th></th>\n",
       "      <th></th>\n",
       "      <th></th>\n",
       "      <th></th>\n",
       "      <th></th>\n",
       "    </tr>\n",
       "  </thead>\n",
       "  <tbody>\n",
       "    <tr>\n",
       "      <th>2003-11-10</th>\n",
       "      <td>105.0</td>\n",
       "      <td>110.0</td>\n",
       "      <td>95.0</td>\n",
       "      <td>97.5</td>\n",
       "      <td>1.373126</td>\n",
       "      <td>5.144140e+09</td>\n",
       "    </tr>\n",
       "    <tr>\n",
       "      <th>2003-11-11</th>\n",
       "      <td>97.5</td>\n",
       "      <td>100.0</td>\n",
       "      <td>95.0</td>\n",
       "      <td>100.0</td>\n",
       "      <td>1.408335</td>\n",
       "      <td>2.938555e+09</td>\n",
       "    </tr>\n",
       "    <tr>\n",
       "      <th>2003-11-12</th>\n",
       "      <td>97.5</td>\n",
       "      <td>105.0</td>\n",
       "      <td>97.5</td>\n",
       "      <td>105.0</td>\n",
       "      <td>1.478751</td>\n",
       "      <td>2.002915e+09</td>\n",
       "    </tr>\n",
       "    <tr>\n",
       "      <th>2003-11-13</th>\n",
       "      <td>105.0</td>\n",
       "      <td>105.0</td>\n",
       "      <td>102.5</td>\n",
       "      <td>105.0</td>\n",
       "      <td>1.478751</td>\n",
       "      <td>1.190050e+09</td>\n",
       "    </tr>\n",
       "    <tr>\n",
       "      <th>2003-11-14</th>\n",
       "      <td>105.0</td>\n",
       "      <td>105.0</td>\n",
       "      <td>100.0</td>\n",
       "      <td>105.0</td>\n",
       "      <td>1.478751</td>\n",
       "      <td>1.725265e+09</td>\n",
       "    </tr>\n",
       "  </tbody>\n",
       "</table>\n",
       "</div>"
      ],
      "text/plain": [
       "             Open   High    Low  Close  Adj Close        Volume\n",
       "Date                                                           \n",
       "2003-11-10  105.0  110.0   95.0   97.5   1.373126  5.144140e+09\n",
       "2003-11-11   97.5  100.0   95.0  100.0   1.408335  2.938555e+09\n",
       "2003-11-12   97.5  105.0   97.5  105.0   1.478751  2.002915e+09\n",
       "2003-11-13  105.0  105.0  102.5  105.0   1.478751  1.190050e+09\n",
       "2003-11-14  105.0  105.0  100.0  105.0   1.478751  1.725265e+09"
      ]
     },
     "execution_count": 4,
     "metadata": {},
     "output_type": "execute_result"
    }
   ],
   "source": [
    "# show data\n",
    "data.head()"
   ]
  },
  {
   "cell_type": "code",
   "execution_count": 5,
   "metadata": {},
   "outputs": [
    {
     "name": "stdout",
     "output_type": "stream",
     "text": [
      "<class 'pandas.core.frame.DataFrame'>\n",
      "DatetimeIndex: 4286 entries, 2003-11-10 to 2021-01-27\n",
      "Data columns (total 6 columns):\n",
      " #   Column     Non-Null Count  Dtype  \n",
      "---  ------     --------------  -----  \n",
      " 0   Open       4272 non-null   float64\n",
      " 1   High       4272 non-null   float64\n",
      " 2   Low        4272 non-null   float64\n",
      " 3   Close      4272 non-null   float64\n",
      " 4   Adj Close  4272 non-null   float64\n",
      " 5   Volume     4272 non-null   float64\n",
      "dtypes: float64(6)\n",
      "memory usage: 234.4 KB\n"
     ]
    }
   ],
   "source": [
    "# check data types in columns\n",
    "data.info()"
   ]
  },
  {
   "cell_type": "code",
   "execution_count": 6,
   "metadata": {},
   "outputs": [
    {
     "data": {
      "text/html": [
       "<div>\n",
       "<style scoped>\n",
       "    .dataframe tbody tr th:only-of-type {\n",
       "        vertical-align: middle;\n",
       "    }\n",
       "\n",
       "    .dataframe tbody tr th {\n",
       "        vertical-align: top;\n",
       "    }\n",
       "\n",
       "    .dataframe thead th {\n",
       "        text-align: right;\n",
       "    }\n",
       "</style>\n",
       "<table border=\"1\" class=\"dataframe\">\n",
       "  <thead>\n",
       "    <tr style=\"text-align: right;\">\n",
       "      <th></th>\n",
       "      <th>Open</th>\n",
       "      <th>High</th>\n",
       "      <th>Low</th>\n",
       "      <th>Close</th>\n",
       "      <th>Adj Close</th>\n",
       "      <th>Volume</th>\n",
       "    </tr>\n",
       "  </thead>\n",
       "  <tbody>\n",
       "    <tr>\n",
       "      <th>count</th>\n",
       "      <td>4272.000000</td>\n",
       "      <td>4272.000000</td>\n",
       "      <td>4272.000000</td>\n",
       "      <td>4272.000000</td>\n",
       "      <td>4272.000000</td>\n",
       "      <td>4.272000e+03</td>\n",
       "    </tr>\n",
       "    <tr>\n",
       "      <th>mean</th>\n",
       "      <td>1668.754096</td>\n",
       "      <td>1688.641737</td>\n",
       "      <td>1647.385885</td>\n",
       "      <td>1668.506554</td>\n",
       "      <td>1178.391859</td>\n",
       "      <td>1.609175e+08</td>\n",
       "    </tr>\n",
       "    <tr>\n",
       "      <th>std</th>\n",
       "      <td>1246.771631</td>\n",
       "      <td>1258.551928</td>\n",
       "      <td>1233.423770</td>\n",
       "      <td>1245.726226</td>\n",
       "      <td>1319.211475</td>\n",
       "      <td>1.533726e+08</td>\n",
       "    </tr>\n",
       "    <tr>\n",
       "      <th>min</th>\n",
       "      <td>97.500000</td>\n",
       "      <td>100.000000</td>\n",
       "      <td>95.000000</td>\n",
       "      <td>97.500000</td>\n",
       "      <td>1.373126</td>\n",
       "      <td>0.000000e+00</td>\n",
       "    </tr>\n",
       "    <tr>\n",
       "      <th>25%</th>\n",
       "      <td>560.000000</td>\n",
       "      <td>575.000000</td>\n",
       "      <td>548.750000</td>\n",
       "      <td>560.000000</td>\n",
       "      <td>83.767948</td>\n",
       "      <td>8.552962e+07</td>\n",
       "    </tr>\n",
       "    <tr>\n",
       "      <th>50%</th>\n",
       "      <td>1380.000000</td>\n",
       "      <td>1400.000000</td>\n",
       "      <td>1370.000000</td>\n",
       "      <td>1380.000000</td>\n",
       "      <td>574.456299</td>\n",
       "      <td>1.279922e+08</td>\n",
       "    </tr>\n",
       "    <tr>\n",
       "      <th>75%</th>\n",
       "      <td>2415.000000</td>\n",
       "      <td>2436.250000</td>\n",
       "      <td>2400.000000</td>\n",
       "      <td>2415.000000</td>\n",
       "      <td>1794.164429</td>\n",
       "      <td>1.958369e+08</td>\n",
       "    </tr>\n",
       "    <tr>\n",
       "      <th>max</th>\n",
       "      <td>4920.000000</td>\n",
       "      <td>4950.000000</td>\n",
       "      <td>4770.000000</td>\n",
       "      <td>4890.000000</td>\n",
       "      <td>4890.000000</td>\n",
       "      <td>5.144140e+09</td>\n",
       "    </tr>\n",
       "  </tbody>\n",
       "</table>\n",
       "</div>"
      ],
      "text/plain": [
       "              Open         High          Low        Close    Adj Close  \\\n",
       "count  4272.000000  4272.000000  4272.000000  4272.000000  4272.000000   \n",
       "mean   1668.754096  1688.641737  1647.385885  1668.506554  1178.391859   \n",
       "std    1246.771631  1258.551928  1233.423770  1245.726226  1319.211475   \n",
       "min      97.500000   100.000000    95.000000    97.500000     1.373126   \n",
       "25%     560.000000   575.000000   548.750000   560.000000    83.767948   \n",
       "50%    1380.000000  1400.000000  1370.000000  1380.000000   574.456299   \n",
       "75%    2415.000000  2436.250000  2400.000000  2415.000000  1794.164429   \n",
       "max    4920.000000  4950.000000  4770.000000  4890.000000  4890.000000   \n",
       "\n",
       "             Volume  \n",
       "count  4.272000e+03  \n",
       "mean   1.609175e+08  \n",
       "std    1.533726e+08  \n",
       "min    0.000000e+00  \n",
       "25%    8.552962e+07  \n",
       "50%    1.279922e+08  \n",
       "75%    1.958369e+08  \n",
       "max    5.144140e+09  "
      ]
     },
     "execution_count": 6,
     "metadata": {},
     "output_type": "execute_result"
    }
   ],
   "source": [
    "# get descriptive statistics summary of data set \n",
    "data.describe()"
   ]
  },
  {
   "cell_type": "code",
   "execution_count": 7,
   "metadata": {},
   "outputs": [
    {
     "data": {
      "text/plain": [
       "Index(['Open', 'High', 'Low', 'Close', 'Adj Close', 'Volume'], dtype='object')"
      ]
     },
     "execution_count": 7,
     "metadata": {},
     "output_type": "execute_result"
    }
   ],
   "source": [
    "# display features in data set\n",
    "data.columns"
   ]
  },
  {
   "cell_type": "markdown",
   "metadata": {},
   "source": [
    "# Data Pre-processing"
   ]
  },
  {
   "cell_type": "code",
   "execution_count": 8,
   "metadata": {},
   "outputs": [],
   "source": [
    "# select Subset with relevant features\n",
    "# get the Close Price\n",
    "# create a new DataFrame with only closing price and date\n",
    "df = pd.DataFrame(data, columns=['Close'])\n",
    "\n",
    "# reset index column so that we have integers to represent time for later analysis\n",
    "df = df.reset_index()"
   ]
  },
  {
   "cell_type": "code",
   "execution_count": 9,
   "metadata": {},
   "outputs": [
    {
     "data": {
      "text/html": [
       "<div>\n",
       "<style scoped>\n",
       "    .dataframe tbody tr th:only-of-type {\n",
       "        vertical-align: middle;\n",
       "    }\n",
       "\n",
       "    .dataframe tbody tr th {\n",
       "        vertical-align: top;\n",
       "    }\n",
       "\n",
       "    .dataframe thead th {\n",
       "        text-align: right;\n",
       "    }\n",
       "</style>\n",
       "<table border=\"1\" class=\"dataframe\">\n",
       "  <thead>\n",
       "    <tr style=\"text-align: right;\">\n",
       "      <th></th>\n",
       "      <th>Date</th>\n",
       "      <th>Close</th>\n",
       "    </tr>\n",
       "  </thead>\n",
       "  <tbody>\n",
       "    <tr>\n",
       "      <th>0</th>\n",
       "      <td>2003-11-10</td>\n",
       "      <td>97.5</td>\n",
       "    </tr>\n",
       "    <tr>\n",
       "      <th>1</th>\n",
       "      <td>2003-11-11</td>\n",
       "      <td>100.0</td>\n",
       "    </tr>\n",
       "    <tr>\n",
       "      <th>2</th>\n",
       "      <td>2003-11-12</td>\n",
       "      <td>105.0</td>\n",
       "    </tr>\n",
       "    <tr>\n",
       "      <th>3</th>\n",
       "      <td>2003-11-13</td>\n",
       "      <td>105.0</td>\n",
       "    </tr>\n",
       "    <tr>\n",
       "      <th>4</th>\n",
       "      <td>2003-11-14</td>\n",
       "      <td>105.0</td>\n",
       "    </tr>\n",
       "  </tbody>\n",
       "</table>\n",
       "</div>"
      ],
      "text/plain": [
       "        Date  Close\n",
       "0 2003-11-10   97.5\n",
       "1 2003-11-11  100.0\n",
       "2 2003-11-12  105.0\n",
       "3 2003-11-13  105.0\n",
       "4 2003-11-14  105.0"
      ]
     },
     "execution_count": 9,
     "metadata": {},
     "output_type": "execute_result"
    }
   ],
   "source": [
    "# show close data\n",
    "df.head()"
   ]
  },
  {
   "cell_type": "code",
   "execution_count": 10,
   "metadata": {},
   "outputs": [
    {
     "name": "stdout",
     "output_type": "stream",
     "text": [
      "<class 'pandas.core.frame.DataFrame'>\n",
      "RangeIndex: 4286 entries, 0 to 4285\n",
      "Data columns (total 2 columns):\n",
      " #   Column  Non-Null Count  Dtype         \n",
      "---  ------  --------------  -----         \n",
      " 0   Date    4286 non-null   datetime64[ns]\n",
      " 1   Close   4272 non-null   float64       \n",
      "dtypes: datetime64[ns](1), float64(1)\n",
      "memory usage: 67.1 KB\n"
     ]
    }
   ],
   "source": [
    "# check data types in columns\n",
    "df.info()"
   ]
  },
  {
   "cell_type": "code",
   "execution_count": 11,
   "metadata": {},
   "outputs": [
    {
     "data": {
      "text/plain": [
       "True"
      ]
     },
     "execution_count": 11,
     "metadata": {},
     "output_type": "execute_result"
    }
   ],
   "source": [
    "# check for missing values in the columns\n",
    "df.isna().values.any()"
   ]
  },
  {
   "cell_type": "code",
   "execution_count": 12,
   "metadata": {},
   "outputs": [],
   "source": [
    "# remove any missing values with mean\n",
    "df=df.dropna()"
   ]
  },
  {
   "cell_type": "markdown",
   "metadata": {},
   "source": [
    "# Data Exploration"
   ]
  },
  {
   "cell_type": "code",
   "execution_count": 13,
   "metadata": {},
   "outputs": [
    {
     "data": {
      "image/png": "[encoded data removed]",
      "text/plain": [
       "<Figure size 432x288 with 1 Axes>"
      ]
     },
     "metadata": {
      "needs_background": "light"
     },
     "output_type": "display_data"
    }
   ],
   "source": [
    "# import matplotlib package for date plots\n",
    "import matplotlib.dates as mdates\n",
    "\n",
    "years = mdates.YearLocator() # Get every year\n",
    "yearsFmt = mdates.DateFormatter('%Y') # Set year format\n",
    "\n",
    "# create subplots to plot graph and control axes\n",
    "fig, ax = plt.subplots()\n",
    "ax.plot(df['Date'], df['Close'])\n",
    "\n",
    "# format the ticks\n",
    "ax.xaxis.set_major_locator(years)\n",
    "ax.xaxis.set_major_formatter(yearsFmt)\n",
    "\n",
    "# set figure title\n",
    "plt.title('Close Stock Price History [2004 - 2019]', fontsize=16)\n",
    "# set x label\n",
    "plt.xlabel('Date', fontsize=14)\n",
    "# set y label\n",
    "plt.ylabel('Closing Stock Price in $', fontsize=14)\n",
    "\n",
    "# rotate and align the x labels\n",
    "fig.autofmt_xdate()\n",
    "\n",
    "# show plot\n",
    "plt.show()\n",
    "\n",
    "register_matplotlib_converters()\n",
    "# we can already see, that the price continously increases over time and we can also estimate that trend could be linear."
   ]
  },
  {
   "cell_type": "markdown",
   "metadata": {},
   "source": [
    "# Modeling"
   ]
  },
  {
   "cell_type": "markdown",
   "metadata": {},
   "source": [
    "### Split Data Train-Test "
   ]
  },
  {
   "cell_type": "code",
   "execution_count": 14,
   "metadata": {},
   "outputs": [],
   "source": [
    "# import library\n",
    "from sklearn.model_selection import train_test_split\n",
    "\n",
    "# split data into train and test set: 80% / 20%\n",
    "train, test = train_test_split(df, test_size=0.20)\n",
    "\n",
    "# reshape index column to 2D array for .fit() method\n",
    "X_train = np.array(train.index).reshape(-1, 1)\n",
    "y_train = train['Close']\n",
    "\n",
    "# create test arrays\n",
    "X_test = np.array(test.index).reshape(-1, 1)\n",
    "y_test = test['Close']"
   ]
  },
  {
   "cell_type": "markdown",
   "metadata": {},
   "source": [
    "### Decision Tree Regression "
   ]
  },
  {
   "cell_type": "code",
   "execution_count": 15,
   "metadata": {},
   "outputs": [
    {
     "data": {
      "text/plain": [
       "DecisionTreeRegressor()"
      ]
     },
     "execution_count": 15,
     "metadata": {},
     "output_type": "execute_result"
    }
   ],
   "source": [
    "# import library\n",
    "from sklearn.tree import DecisionTreeRegressor\n",
    "\n",
    "# create LinearRegression Object\n",
    "dt = DecisionTreeRegressor()\n",
    "# fit linear model using the train data set\n",
    "dt.fit(X_train, y_train)"
   ]
  },
  {
   "cell_type": "markdown",
   "metadata": {},
   "source": [
    "### KNN Regression"
   ]
  },
  {
   "cell_type": "code",
   "execution_count": 16,
   "metadata": {},
   "outputs": [
    {
     "data": {
      "text/plain": [
       "KNeighborsRegressor(n_neighbors=3)"
      ]
     },
     "execution_count": 16,
     "metadata": {},
     "output_type": "execute_result"
    }
   ],
   "source": [
    "# import library\n",
    "from sklearn.neighbors import KNeighborsRegressor\n",
    "\n",
    "# instantiate the model and set the number of neighbors to consider to 3\n",
    "knn = KNeighborsRegressor(n_neighbors=3)\n",
    "\n",
    "# fit the model using the training data and training targets\n",
    "knn.fit(X_train, y_train)"
   ]
  },
  {
   "cell_type": "markdown",
   "metadata": {},
   "source": [
    "### Linear Regression "
   ]
  },
  {
   "cell_type": "code",
   "execution_count": 17,
   "metadata": {},
   "outputs": [
    {
     "data": {
      "text/plain": [
       "LinearRegression()"
      ]
     },
     "execution_count": 17,
     "metadata": {},
     "output_type": "execute_result"
    }
   ],
   "source": [
    "# import library\n",
    "from sklearn.linear_model import LinearRegression\n",
    "\n",
    "# create LinearRegression Object\n",
    "lr = LinearRegression()\n",
    "# fit linear model using the train data set\n",
    "lr.fit(X_train, y_train)"
   ]
  },
  {
   "cell_type": "code",
   "execution_count": 18,
   "metadata": {},
   "outputs": [
    {
     "name": "stdout",
     "output_type": "stream",
     "text": [
      "Slope:  0.9616020368602904\n",
      "Intercept:  -395.65996616711436\n"
     ]
    }
   ],
   "source": [
    "# the coefficient\n",
    "print('Slope: ', np.squeeze(lr.coef_))\n",
    "# the intercept\n",
    "print('Intercept: ', lr.intercept_)"
   ]
  },
  {
   "cell_type": "code",
   "execution_count": 19,
   "metadata": {},
   "outputs": [
    {
     "data": {
      "image/png": "[encoded data removed]",
      "text/plain": [
       "<Figure size 1152x720 with 1 Axes>"
      ]
     },
     "metadata": {
      "needs_background": "light"
     },
     "output_type": "display_data"
    }
   ],
   "source": [
    "# Train set graph\n",
    "plt.figure(1, figsize=(16,10))\n",
    "plt.title('Linear Regression | Price vs Time')\n",
    "plt.scatter(X_train, y_train, edgecolor='w', label='Actual Price')\n",
    "plt.plot(X_train, lr.predict(X_train), color='r', label='Predicted Price')\n",
    "plt.xlabel('Integer Date')\n",
    "plt.ylabel('Stock Price')\n",
    "plt.legend()\n",
    "plt.show()"
   ]
  },
  {
   "cell_type": "markdown",
   "metadata": {},
   "source": [
    "# Evaluation"
   ]
  },
  {
   "cell_type": "code",
   "execution_count": 20,
   "metadata": {},
   "outputs": [
    {
     "name": "stdout",
     "output_type": "stream",
     "text": [
      "DT confidence: 0.9989117467359414\n",
      "KNN confidence: 0.999278351966094\n",
      "LR confidence: 0.8982827783868418\n"
     ]
    }
   ],
   "source": [
    "# testing Model: Score returns the coefficient of determination R^2 of the prediction. \n",
    "# the best possible score is 1.0\n",
    "dt_conf = dt.score(X_test, y_test)\n",
    "knn_conf = knn.score(X_test, y_test)\n",
    "lr_conf = lr.score(X_test, y_test)\n",
    "\n",
    "print(\"DT confidence:\", dt_conf)\n",
    "print(\"KNN confidence:\", knn_conf)\n",
    "print(\"LR confidence:\", lr_conf)"
   ]
  }
 ],
 "metadata": {
  "kernelspec": {
   "display_name": "Python 3",
   "language": "python",
   "name": "python3"
  },
  "language_info": {
   "codemirror_mode": {
    "name": "ipython",
    "version": 3
   },
   "file_extension": ".py",
   "mimetype": "text/x-python",
   "name": "python",
   "nbconvert_exporter": "python",
   "pygments_lexer": "ipython3",
   "version": "3.8.5"
  }
 },
 "nbformat": 4,
 "nbformat_minor": 4
}
